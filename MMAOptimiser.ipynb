{
 "cells": [
  {
   "cell_type": "code",
   "execution_count": 9,
   "metadata": {},
   "outputs": [],
   "source": [
    "from pulp import *\n",
    "import numpy as np\n",
    "import pandas as pd\n",
    "model = LpProblem('MMA',LpMaximize)\n",
    "\n",
    "\n",
    "fighters = pd.read_csv('C:\\\\Users\\\\liamf\\\\Downloads\\\\dks.csv')   #########\n",
    "n = 5\n",
    "numFights = len(fighters.filter(regex=(\"figh.*\")).columns)\n",
    "\n",
    "results = []\n",
    "total_points = {}\n",
    "cost = {}\n",
    "number_of_fighters = {}\n",
    "lock = {}\n",
    "x = {}\n",
    "fights= {} \n",
    "equations = {}\n",
    "\n",
    "for i in range(1,numFights+1):\n",
    "    var_name = \"fight%d\" % i \n",
    "    fights[var_name] = {}\n",
    "    \n",
    "for i, fighter in fighters.iterrows():\n",
    "    var_name = 'x' + str(i) # Create variable name\n",
    "    decision_var = LpVariable(var_name, cat='Binary') # Initialize Variables\n",
    "    \n",
    "    x[i] = decision_var \n",
    "    \n",
    "    total_points[decision_var] = fighter[\"Points\"] # Create PPG Dictionary\n",
    "    cost[decision_var] = fighter[\"Salary\"] # Create Cost Dictionary\n",
    "    \n",
    "    for i in fights:\n",
    "        fights[i][decision_var] = fighter[i]\n",
    "    lock[decision_var] = fighter[\"lock\"]\n",
    "    \n",
    "    number_of_fighters[decision_var] = 1.0\n",
    "    \n",
    "objective_function = LpAffineExpression(total_points)\n",
    "total_cost = LpAffineExpression(cost)\n",
    "total_fighters = LpAffineExpression(number_of_fighters)\n",
    "lock_eq = LpAffineExpression(lock)\n",
    "\n",
    "for i in fights:\n",
    "    var_name = i + \"_eq\"\n",
    "    equations[var_name] = LpAffineExpression(fights[i])\n",
    "    \n",
    "model += objective_function\n",
    "model += (total_cost <= 50000)\n",
    "model += (total_fighters <= 6)\n",
    "model += (total_fighters >= 6)\n",
    "model += (lock_eq >=1)\n",
    "\n",
    "for i in equations:\n",
    "    model += (equations[i] <=1)\n",
    "    \n",
    "model.solve()\n",
    "\n",
    "while len(results)<n:\n",
    "    if model.solve() ==1:\n",
    "        selection = []\n",
    "        high = model.objective.value()\n",
    "        fighters[\"is_drafted\"] = 0.0\n",
    "        for var in x.values():\n",
    "            fighters.iloc[int(var.name[1:]),(len(fighters.columns)-1)] = var.varValue\n",
    "        \n",
    "        selection = fighters[fighters[\"is_drafted\"] == 1.0]['ID']\n",
    "            \n",
    "            #if var.value() == 1.0:\n",
    "                #selection.append(var.name)\n",
    "            \n",
    "        results.append(selection.values)\n",
    "        \n",
    "        model = LpProblem('MMA',LpMaximize)\n",
    "        model += objective_function\n",
    "        model += (total_cost <= 50000)\n",
    "        model += (total_fighters <= 6)\n",
    "        model += (lock_eq >=1)\n",
    "        for i in equations:\n",
    "            model += (equations[i] <=1)\n",
    "        model += (objective_function <= (high - 0.01))\n",
    "        model.solve()"
   ]
  },
  {
   "cell_type": "code",
   "execution_count": 10,
   "metadata": {},
   "outputs": [
    {
     "name": "stdout",
     "output_type": "stream",
     "text": [
      "[18970953 18970960 18970947 18970958 18970952 18970956]\n",
      "[18970953 18970960 18970947 18970958 18970952 18970943]\n",
      "[18970953 18970944 18970947 18970958 18970952 18970945]\n",
      "[18970953 18970944 18970960 18970958 18970952 18970945]\n",
      "[18970953 18970944 18970947 18970958 18970959 18970956]\n"
     ]
    }
   ],
   "source": [
    "for i in results:\n",
    "    print(i)"
   ]
  },
  {
   "cell_type": "code",
   "execution_count": 7,
   "metadata": {},
   "outputs": [
    {
     "data": {
      "text/plain": [
       "19"
      ]
     },
     "execution_count": 7,
     "metadata": {},
     "output_type": "execute_result"
    }
   ],
   "source": [
    "len(results)"
   ]
  }
 ],
 "metadata": {
  "kernelspec": {
   "display_name": "Python 3",
   "language": "python",
   "name": "python3"
  }
 },
 "nbformat": 4,
 "nbformat_minor": 4
}
